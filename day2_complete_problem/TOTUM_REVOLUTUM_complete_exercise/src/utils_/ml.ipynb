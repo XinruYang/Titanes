{
 "metadata": {
  "language_info": {
   "codemirror_mode": {
    "name": "ipython",
    "version": 3
   },
   "file_extension": ".py",
   "mimetype": "text/x-python",
   "name": "python",
   "nbconvert_exporter": "python",
   "pygments_lexer": "ipython3",
   "version": "3.7.4"
  },
  "orig_nbformat": 4,
  "kernelspec": {
   "name": "python3",
   "display_name": "Python 3.7.4 64-bit"
  },
  "interpreter": {
   "hash": "fc2c00f0e2c44cb4028bd693f18a1b5d93d1de4cd12db71fca36ff691a163044"
  }
 },
 "nbformat": 4,
 "nbformat_minor": 2,
 "cells": [
  {
   "cell_type": "code",
   "execution_count": 37,
   "metadata": {},
   "outputs": [],
   "source": [
    "import json\n",
    "import os, sys\n",
    "from sqlalchemy import create_engine\n",
    "import pandas as pd \n",
    "from sklearn.decomposition import PCA\n",
    "from sklearn.neighbors import KNeighborsClassifier"
   ]
  },
  {
   "cell_type": "code",
   "execution_count": 38,
   "metadata": {},
   "outputs": [],
   "source": [
    "from sklearn.pipeline import Pipeline\n",
    "from sklearn.impute import SimpleImputer\n",
    "from sklearn.preprocessing import StandardScaler\n",
    "from sklearn.model_selection import train_test_split\n",
    "from sklearn.svm import SVC\n",
    "from sklearn.linear_model import LogisticRegression\n",
    "from sklearn.ensemble import RandomForestClassifier\n",
    "from sklearn.model_selection import GridSearchCV"
   ]
  },
  {
   "cell_type": "code",
   "execution_count": 39,
   "metadata": {},
   "outputs": [],
   "source": [
    "dir = os.path.dirname\n",
    "path1 = dir(dir(os.getcwd()))\n",
    "sys.path.append(path1)"
   ]
  },
  {
   "cell_type": "code",
   "execution_count": 40,
   "metadata": {},
   "outputs": [],
   "source": [
    "df = pd.read_csv(\"../../data/fire_archive_M6_96619.csv\")\n"
   ]
  },
  {
   "cell_type": "code",
   "execution_count": 41,
   "metadata": {},
   "outputs": [],
   "source": [
    "df = df[[ \"latitude\", \"longitude\", \"scan\", \"track\", \"acq_time\", \"frp\", \"type\" ]]"
   ]
  },
  {
   "cell_type": "code",
   "execution_count": 42,
   "metadata": {},
   "outputs": [
    {
     "output_type": "execute_result",
     "data": {
      "text/plain": [
       "       latitude  longitude  scan  track  acq_time   frp  type\n",
       "0      -11.8070   142.0583   1.0    1.0        56   6.6     0\n",
       "1      -11.7924   142.0850   1.0    1.0        56  11.3     0\n",
       "2      -12.8398   132.8744   3.1    1.7        57  23.1     0\n",
       "3      -14.4306   143.3035   1.1    1.1        57   6.5     0\n",
       "4      -12.4953   131.4897   4.0    1.9        57  27.6     0\n",
       "...         ...        ...   ...    ...       ...   ...   ...\n",
       "36006  -28.0656   131.6334   1.2    1.1      1644  14.2     0\n",
       "36007  -28.2625   128.5494   1.0    1.0      1644   6.4     0\n",
       "36008  -28.2941   128.5123   1.0    1.0      1644   5.5     0\n",
       "36009  -28.3001   128.5530   1.0    1.0      1644   5.7     0\n",
       "36010  -30.8641   121.4995   1.8    1.3      1645  23.0     2\n",
       "\n",
       "[36011 rows x 7 columns]"
      ],
      "text/html": "<div>\n<style scoped>\n    .dataframe tbody tr th:only-of-type {\n        vertical-align: middle;\n    }\n\n    .dataframe tbody tr th {\n        vertical-align: top;\n    }\n\n    .dataframe thead th {\n        text-align: right;\n    }\n</style>\n<table border=\"1\" class=\"dataframe\">\n  <thead>\n    <tr style=\"text-align: right;\">\n      <th></th>\n      <th>latitude</th>\n      <th>longitude</th>\n      <th>scan</th>\n      <th>track</th>\n      <th>acq_time</th>\n      <th>frp</th>\n      <th>type</th>\n    </tr>\n  </thead>\n  <tbody>\n    <tr>\n      <th>0</th>\n      <td>-11.8070</td>\n      <td>142.0583</td>\n      <td>1.0</td>\n      <td>1.0</td>\n      <td>56</td>\n      <td>6.6</td>\n      <td>0</td>\n    </tr>\n    <tr>\n      <th>1</th>\n      <td>-11.7924</td>\n      <td>142.0850</td>\n      <td>1.0</td>\n      <td>1.0</td>\n      <td>56</td>\n      <td>11.3</td>\n      <td>0</td>\n    </tr>\n    <tr>\n      <th>2</th>\n      <td>-12.8398</td>\n      <td>132.8744</td>\n      <td>3.1</td>\n      <td>1.7</td>\n      <td>57</td>\n      <td>23.1</td>\n      <td>0</td>\n    </tr>\n    <tr>\n      <th>3</th>\n      <td>-14.4306</td>\n      <td>143.3035</td>\n      <td>1.1</td>\n      <td>1.1</td>\n      <td>57</td>\n      <td>6.5</td>\n      <td>0</td>\n    </tr>\n    <tr>\n      <th>4</th>\n      <td>-12.4953</td>\n      <td>131.4897</td>\n      <td>4.0</td>\n      <td>1.9</td>\n      <td>57</td>\n      <td>27.6</td>\n      <td>0</td>\n    </tr>\n    <tr>\n      <th>...</th>\n      <td>...</td>\n      <td>...</td>\n      <td>...</td>\n      <td>...</td>\n      <td>...</td>\n      <td>...</td>\n      <td>...</td>\n    </tr>\n    <tr>\n      <th>36006</th>\n      <td>-28.0656</td>\n      <td>131.6334</td>\n      <td>1.2</td>\n      <td>1.1</td>\n      <td>1644</td>\n      <td>14.2</td>\n      <td>0</td>\n    </tr>\n    <tr>\n      <th>36007</th>\n      <td>-28.2625</td>\n      <td>128.5494</td>\n      <td>1.0</td>\n      <td>1.0</td>\n      <td>1644</td>\n      <td>6.4</td>\n      <td>0</td>\n    </tr>\n    <tr>\n      <th>36008</th>\n      <td>-28.2941</td>\n      <td>128.5123</td>\n      <td>1.0</td>\n      <td>1.0</td>\n      <td>1644</td>\n      <td>5.5</td>\n      <td>0</td>\n    </tr>\n    <tr>\n      <th>36009</th>\n      <td>-28.3001</td>\n      <td>128.5530</td>\n      <td>1.0</td>\n      <td>1.0</td>\n      <td>1644</td>\n      <td>5.7</td>\n      <td>0</td>\n    </tr>\n    <tr>\n      <th>36010</th>\n      <td>-30.8641</td>\n      <td>121.4995</td>\n      <td>1.8</td>\n      <td>1.3</td>\n      <td>1645</td>\n      <td>23.0</td>\n      <td>2</td>\n    </tr>\n  </tbody>\n</table>\n<p>36011 rows × 7 columns</p>\n</div>"
     },
     "metadata": {},
     "execution_count": 42
    }
   ],
   "source": [
    "df"
   ]
  },
  {
   "cell_type": "code",
   "execution_count": 43,
   "metadata": {},
   "outputs": [],
   "source": [
    "X = df.drop(\"type\", axis=1)\n",
    "y = df[\"type\"]"
   ]
  },
  {
   "cell_type": "code",
   "execution_count": 44,
   "metadata": {},
   "outputs": [],
   "source": [
    "#from utils_.sql_functions import load_sql"
   ]
  },
  {
   "cell_type": "code",
   "execution_count": 45,
   "metadata": {},
   "outputs": [],
   "source": [
    "def gridSearch(X, y):\n",
    "\n",
    "    X_train, X_test, y_train, y_test = train_test_split(X, y, test_size=0.8, random_state=42)\n",
    "\n",
    "    reg_log = Pipeline(steps=[\n",
    "        ('pca', PCA(n_components=0.9, random_state=42)),\n",
    "        ('classifier', SVC())])\n",
    "\n",
    "    logistic_params = {'classifier': [LogisticRegression()]}\n",
    "    random_forest_params = {'classifier': [KNeighborsClassifier()]}\n",
    "    svm_params = {'classifier': [SVC()]}\n",
    "\n",
    "    search_space = [\n",
    "        logistic_params,\n",
    "        random_forest_params,\n",
    "        svm_params]\n",
    "\n",
    "    clf = GridSearchCV(estimator = reg_log,\n",
    "                    param_grid = search_space,\n",
    "                    cv = 2,\n",
    "                    verbose=1,\n",
    "                    n_jobs=-1)\n",
    "\n",
    "    return clf "
   ]
  },
  {
   "source": [
    "querry = \"\"\"\n",
    "        SELECT fire_id, latitude, longitude, scan, track, acq_date, acq_time, frp, fire_type\n",
    "        FROM australia_fires.fire_archive_M6_96619\n",
    "        UNION ALL\n",
    "        SELECT fire_id, latitude, longitude, scan, track, acq_date, acq_time, frp, fire_type \n",
    "        FROM australia_fires.fire_archive_V1_96617\n",
    "        \"\"\"\n",
    "with open(dir(path1) + os.sep + 'config' + os.sep + 'bd_info.json') as json_file:\n",
    "        db_conf = json.load(json_file)\n",
    "\n",
    "engine = create_engine('mysql+pymysql://' + db_conf['USER'] + ':' + db_conf['PASSWORD'] + '@' + db_conf['IP_DNS'] + ':' + str(db_conf['PORT'])+ '/' + db_conf['BD_NAME'])\n",
    "con = engine.connect()\n",
    "df = pd.read_sql_query(querry, con=con)\n",
    "df"
   ],
   "cell_type": "markdown",
   "metadata": {}
  },
  {
   "cell_type": "code",
   "execution_count": 46,
   "metadata": {},
   "outputs": [
    {
     "output_type": "stream",
     "name": "stdout",
     "text": [
      "Fitting 2 folds for each of 3 candidates, totalling 6 fits\n"
     ]
    },
    {
     "output_type": "execute_result",
     "data": {
      "text/plain": [
       "0.9904195947766863"
      ]
     },
     "metadata": {},
     "execution_count": 46
    }
   ],
   "source": [
    "clf = gridSearch(X, y) \n",
    "clf.fit(X, y)\n",
    "clf.best_estimator_\n",
    "clf.best_score_"
   ]
  },
  {
   "cell_type": "code",
   "execution_count": null,
   "metadata": {},
   "outputs": [],
   "source": []
  }
 ]
}